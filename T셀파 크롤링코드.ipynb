{
 "cells": [
  {
   "cell_type": "markdown",
   "metadata": {},
   "source": [
    "# T셀파 원격교육연수원 크롤링"
   ]
  },
  {
   "cell_type": "markdown",
   "metadata": {},
   "source": [
    "## 전체 후기 크롤링"
   ]
  },
  {
   "cell_type": "code",
   "execution_count": 7,
   "metadata": {},
   "outputs": [
    {
     "name": "stdout",
     "output_type": "stream",
     "text": [
      "크롤링 완료 및 엑셀 저장 완료!\n"
     ]
    }
   ],
   "source": [
    "from selenium import webdriver\n",
    "from selenium.webdriver.common.by import By\n",
    "from selenium.webdriver.support.ui import WebDriverWait\n",
    "from selenium.webdriver.support import expected_conditions as EC\n",
    "import pandas as pd\n",
    "\n",
    "# 크롬 드라이버 설정 (크롬 드라이버의 경로가 PATH에 포함되어 있어야 합니다)\n",
    "driver = webdriver.Chrome()\n",
    "url = 'https://edu.tsherpa.co.kr/LectureInfo/LectureReviews2'\n",
    "driver.get(url)  # 지정된 URL로 브라우저를 열어 접속\n",
    "\n",
    "# 데이터를 저장할 딕셔너리 초기화\n",
    "data = {\"별점\": [], \"시간\": [], \"제목\": []}\n",
    "\n",
    "# 크롤링할 페이지 범위 설정\n",
    "start_page = 1\n",
    "end_page = 314\n",
    "\n",
    "# 설정된 페이지 범위 내에서 크롤링 시작\n",
    "for page in range(start_page, end_page + 1):\n",
    "    # 각 페이지 당 10개의 리뷰를 크롤링\n",
    "    for i in range(1, 11):\n",
    "        # 별점 크롤링\n",
    "        rating_xpath = f'//*[@id=\"mainForm\"]/table/tbody/tr[{i}]/td[3]/img'\n",
    "        try:\n",
    "            WebDriverWait(driver, 10).until(EC.presence_of_element_located((By.XPATH, rating_xpath)))\n",
    "            rating_element = driver.find_element(By.XPATH, rating_xpath)\n",
    "            rating = rating_element.get_attribute('alt')  # 예: '별점: 5점'\n",
    "            data[\"별점\"].append(rating)\n",
    "        except:\n",
    "            data[\"별점\"].append(\"N/A\")\n",
    "            print(f\"별점을 찾을 수 없음: {i}\")\n",
    "\n",
    "        # 시간 크롤링\n",
    "        time_xpath = f'//*[@id=\"mainForm\"]/table/tbody/tr[{i}]/td[2]/a/span'\n",
    "        try:\n",
    "            WebDriverWait(driver, 10).until(EC.presence_of_element_located((By.XPATH, time_xpath)))\n",
    "            time_element = driver.find_element(By.XPATH, time_xpath)\n",
    "            time_text = time_element.text  # 시간 텍스트 가져오기\n",
    "            data[\"시간\"].append(time_text)\n",
    "        except:\n",
    "            data[\"시간\"].append(\"N/A\")\n",
    "            print(f\"시간 정보를 찾을 수 없음: {i}\")\n",
    "\n",
    "        # 강의명 크롤링\n",
    "        title_xpath = f'//*[@id=\"mainForm\"]/table/tbody/tr[{i}]/td[2]/a'\n",
    "        try:\n",
    "            WebDriverWait(driver, 10).until(EC.presence_of_element_located((By.XPATH, title_xpath)))\n",
    "            title_element = driver.find_element(By.XPATH, title_xpath)\n",
    "            title_text = title_element.text.split('\\n')[0].strip()  # 제목 텍스트 가져오기\n",
    "            data[\"제목\"].append(title_text)\n",
    "        except Exception as e:\n",
    "            data[\"제목\"].append(\"N/A\")\n",
    "            print(f\"제목 정보를 찾을 수 없음: {i}, 오류: {e}\")\n",
    "\n",
    "    # 다음 페이지로 이동\n",
    "    if page % 10 == 0:\n",
    "        # 현재 페이지가 10의 배수이면 '다음' 버튼을 클릭\n",
    "        next_button_xpath = '//*[@id=\"mainForm\"]/div[3]/a[12]'\n",
    "        try:\n",
    "            WebDriverWait(driver, 10).until(EC.element_to_be_clickable((By.XPATH, next_button_xpath)))\n",
    "            driver.find_element(By.XPATH, next_button_xpath).click()\n",
    "        except Exception as e:\n",
    "            print(f\"다음 버튼 클릭 오류: {e}\")\n",
    "    else:\n",
    "        # 다음 페이지 버튼 클릭\n",
    "        page_number = page % 10 + 2  # 다음 페이지 번호 계산 (2부터 시작)\n",
    "        if page_number == 2:\n",
    "            # 다음 페이지가 첫 번째 페이지인 경우 strong 태그 사용\n",
    "            page_xpath = f'//*[@id=\"mainForm\"]/div[3]/strong/a'\n",
    "        else:\n",
    "            # 그 외의 경우 a 태그 사용\n",
    "            page_xpath = f'//*[@id=\"mainForm\"]/div[3]/a[{page_number}]'\n",
    "        try:\n",
    "            WebDriverWait(driver, 10).until(EC.element_to_be_clickable((By.XPATH, page_xpath)))\n",
    "            driver.find_element(By.XPATH, page_xpath).click()\n",
    "        except Exception as e:\n",
    "            print(f\"페이지 버튼 클릭 오류: {e}\")\n",
    "\n",
    "# 크롤링 종료 후 드라이버 닫기\n",
    "driver.quit()\n",
    "\n",
    "# 크롤링한 데이터를 DataFrame으로 변환\n",
    "df = pd.DataFrame(data)\n",
    "\n",
    "# 데이터를 엑셀 파일로 저장\n",
    "df.to_excel('Tsherpa_reviews.xlsx', index=False)\n",
    "\n",
    "print(\"크롤링 완료 및 엑셀 저장 완료!\")\n"
   ]
  },
  {
   "cell_type": "markdown",
   "metadata": {},
   "source": [
    "### 추가 315페이지 크롤링"
   ]
  },
  {
   "cell_type": "code",
   "execution_count": 8,
   "metadata": {},
   "outputs": [
    {
     "name": "stdout",
     "output_type": "stream",
     "text": [
      "315페이지 리뷰 추가 완료 및 엑셀 저장 완료!\n"
     ]
    }
   ],
   "source": [
    "from selenium import webdriver\n",
    "from selenium.webdriver.common.by import By\n",
    "from selenium.webdriver.support.ui import WebDriverWait\n",
    "from selenium.webdriver.support import expected_conditions as EC\n",
    "import pandas as pd\n",
    "\n",
    "# 크롬 드라이버 설정\n",
    "driver = webdriver.Chrome()\n",
    "url = 'https://edu.tsherpa.co.kr/LectureInfo/LectureReviews2'\n",
    "driver.get(url)\n",
    "\n",
    "# 314페이지에서 315페이지로 이동\n",
    "next_button_xpath = '//*[@id=\"mainForm\"]/div[3]/a[13]'\n",
    "try:\n",
    "    WebDriverWait(driver, 10).until(EC.element_to_be_clickable((By.XPATH, next_button_xpath)))\n",
    "    driver.find_element(By.XPATH, next_button_xpath).click()\n",
    "except Exception as e:\n",
    "    print(f\"315페이지 이동 버튼 클릭 오류: {e}\")\n",
    "\n",
    "# 데이터를 저장할 딕셔너리 초기화\n",
    "extra_data = {\"별점\": [], \"시간\": [], \"제목\": []}\n",
    "\n",
    "# 315페이지의 리뷰는 2개만 있음\n",
    "for i in range(1, 3):\n",
    "    # 별점 크롤링\n",
    "    rating_xpath = f'//*[@id=\"mainForm\"]/table/tbody/tr[{i}]/td[3]/img'\n",
    "    try:\n",
    "        WebDriverWait(driver, 10).until(EC.presence_of_element_located((By.XPATH, rating_xpath)))\n",
    "        rating_element = driver.find_element(By.XPATH, rating_xpath)\n",
    "        rating = rating_element.get_attribute('alt')  # 예: '별점: 5점'\n",
    "        extra_data[\"별점\"].append(rating)\n",
    "    except:\n",
    "        extra_data[\"별점\"].append(\"N/A\")\n",
    "        print(f\"별점을 찾을 수 없음: {i}\")\n",
    "\n",
    "    # 시간 크롤링\n",
    "    time_xpath = f'//*[@id=\"mainForm\"]/table/tbody/tr[{i}]/td[2]/a/span'\n",
    "    try:\n",
    "        WebDriverWait(driver, 10).until(EC.presence_of_element_located((By.XPATH, time_xpath)))\n",
    "        time_element = driver.find_element(By.XPATH, time_xpath)\n",
    "        time_text = time_element.text  # 시간 텍스트 가져오기\n",
    "        extra_data[\"시간\"].append(time_text)\n",
    "    except:\n",
    "        extra_data[\"시간\"].append(\"N/A\")\n",
    "        print(f\"시간 정보를 찾을 수 없음: {i}\")\n",
    "\n",
    "    # 강의명 크롤링\n",
    "    title_xpath = f'//*[@id=\"mainForm\"]/table/tbody/tr[{i}]/td[2]/a'\n",
    "    try:\n",
    "        WebDriverWait(driver, 10).until(EC.presence_of_element_located((By.XPATH, title_xpath)))\n",
    "        title_element = driver.find_element(By.XPATH, title_xpath)\n",
    "        title_text = title_element.text.split('\\n')[0].strip()  # 제목 텍스트 가져오기\n",
    "        extra_data[\"제목\"].append(title_text)\n",
    "    except Exception as e:\n",
    "        extra_data[\"제목\"].append(\"N/A\")\n",
    "        print(f\"제목 정보를 찾을 수 없음: {i}, 오류: {e}\")\n",
    "\n",
    "# 크롤링 종료 후 드라이버 닫기\n",
    "driver.quit()\n",
    "\n",
    "# 데이터를 DataFrame으로 변환\n",
    "extra_df = pd.DataFrame(extra_data)\n",
    "\n",
    "# 기존 엑셀 파일 불러오기\n",
    "df = pd.read_excel('Tsherpa_reviews.xlsx')\n",
    "\n",
    "# 새로운 데이터 추가\n",
    "df = pd.concat([df, extra_df], ignore_index=True)\n",
    "\n",
    "# 합쳐진 데이터를 다시 엑셀 파일로 저장\n",
    "df.to_excel('Tsherpa_reviews.xlsx', index=False)\n",
    "\n",
    "print(\"315페이지 리뷰 추가 완료 및 엑셀 저장 완료!\")\n"
   ]
  },
  {
   "cell_type": "code",
   "execution_count": 9,
   "metadata": {},
   "outputs": [
    {
     "name": "stdout",
     "output_type": "stream",
     "text": [
      "제목 수정 완료 및 엑셀 저장 완료!\n"
     ]
    }
   ],
   "source": [
    "import pandas as pd\n",
    "import re\n",
    "\n",
    "# 엑셀 파일 불러오기\n",
    "df = pd.read_excel('Tsherpa_reviews11.xlsx')\n",
    "\n",
    "# 제목 컬럼에서 숫자+시간, 공백 한 칸 삭제\n",
    "df['제목'] = df['제목'].apply(lambda x: re.sub(r'^\\d+시간\\s+', '', x))\n",
    "\n",
    "# 수정된 데이터를 다시 엑셀 파일로 저장\n",
    "df.to_excel('Tsherpa_reviews.xlsx', index=False)\n",
    "\n",
    "print(\"제목 수정 완료 및 엑셀 저장 완료!\")\n"
   ]
  },
  {
   "cell_type": "code",
   "execution_count": null,
   "metadata": {},
   "outputs": [],
   "source": []
  },
  {
   "cell_type": "code",
   "execution_count": null,
   "metadata": {},
   "outputs": [],
   "source": []
  },
  {
   "cell_type": "code",
   "execution_count": null,
   "metadata": {},
   "outputs": [],
   "source": []
  },
  {
   "cell_type": "markdown",
   "metadata": {},
   "source": [
    "## 강의 카테고리 크롤링"
   ]
  },
  {
   "cell_type": "code",
   "execution_count": 14,
   "metadata": {},
   "outputs": [],
   "source": [
    "# 목표 웹페이지 열기\n",
    "driver = webdriver.Chrome()\n",
    "\n",
    "\n",
    "url = 'https://edu.tsherpa.co.kr/Product/List/'\n",
    "driver.get(url)"
   ]
  },
  {
   "cell_type": "markdown",
   "metadata": {},
   "source": [
    "### 페이지가 다 로딩될때까지 기다리기"
   ]
  },
  {
   "cell_type": "code",
   "execution_count": 17,
   "metadata": {},
   "outputs": [
    {
     "name": "stdout",
     "output_type": "stream",
     "text": [
      "      카테고리                             제목\n",
      "0     교과수업                 교사가 알고싶은 독립운동사\n",
      "1    교과서연수    실패 없는 과학 교과서 실험 (3~4학년 1학기)\n",
      "2   ICT정보화    쉽게 시작할 수 있는 노션과 ZOOM 활용 꿀팁!\n",
      "3     인문교양           학생들과 함께 나누는 기후변화 이야기\n",
      "4   ICT정보화  학급경영, 수업, 업무 - 노션으로 한 방에 해결하기\n",
      "..     ...                            ...\n",
      "76    교과수업                 수업을 살리는 미술 레시피\n",
      "77    교과수업                 수업을 살리는 꿀팁 레시피\n",
      "78    자기계발                    나만의 여행책 만들기\n",
      "79    교과수업                 수업을 살리는 놀이 레시피\n",
      "80    교과수업                교과수업에 활용하는 진로교육\n",
      "\n",
      "[81 rows x 2 columns]\n"
     ]
    }
   ],
   "source": [
    "#카테고리와 제목 크롤링 코드\n",
    "\n",
    "\n",
    "# 데이터 저장 리스트\n",
    "data = {\n",
    "    \"카테고리\": [],\n",
    "    \"제목\": []\n",
    "}\n",
    "\n",
    "# 카테고리 및 제목 크롤링\n",
    "for i in range(1, 82):  # 총 81개의 강의의 카테고리와 제목을 크롤링\n",
    "    # 카테고리 크롤링\n",
    "    category_xpath = f'//*[@id=\"mainForm\"]/div[3]/div/ul/li[{i}]/div[1]'\n",
    "    try:\n",
    "        category_element = driver.find_element(By.XPATH, category_xpath)\n",
    "        category_text = category_element.text.strip()  # 카테고리 텍스트 가져오기\n",
    "        data[\"카테고리\"].append(category_text)\n",
    "    except:\n",
    "        data[\"카테고리\"].append(\"N/A\")\n",
    "        print(f\"카테고리 정보를 찾을 수 없음: {i}\")\n",
    "\n",
    "    # 제목 크롤링\n",
    "    title_xpath = f'//*[@id=\"mainForm\"]/div[3]/div/ul/li[{i}]/div[3]/p[2]/a'\n",
    "    try:\n",
    "        title_element = driver.find_element(By.XPATH, title_xpath)\n",
    "        title_text = title_element.text.strip()  # 제목 텍스트 가져오기\n",
    "        data[\"제목\"].append(title_text)\n",
    "    except:\n",
    "        data[\"제목\"].append(\"N/A\")\n",
    "        print(f\"제목 정보를 찾을 수 없음: {i}\")\n",
    "\n",
    "\n",
    "# 데이터프레임 생성\n",
    "df = pd.DataFrame(data)\n",
    "\n",
    "# 크롤링 결과 출력\n",
    "print(df)\n",
    "# 데이터프레임을 엑셀 파일로 저장 (선택 사항)\n",
    "df.to_excel(\"./category_title_reviews.xlsx\", index=False)"
   ]
  },
  {
   "cell_type": "code",
   "execution_count": null,
   "metadata": {},
   "outputs": [],
   "source": []
  }
 ],
 "metadata": {
  "kernelspec": {
   "display_name": "Python 3 (ipykernel)",
   "language": "python",
   "name": "python3"
  },
  "language_info": {
   "codemirror_mode": {
    "name": "ipython",
    "version": 3
   },
   "file_extension": ".py",
   "mimetype": "text/x-python",
   "name": "python",
   "nbconvert_exporter": "python",
   "pygments_lexer": "ipython3",
   "version": "3.11.7"
  }
 },
 "nbformat": 4,
 "nbformat_minor": 4
}
